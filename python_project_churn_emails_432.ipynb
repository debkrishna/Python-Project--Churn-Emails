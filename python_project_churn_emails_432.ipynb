{
 "cells": [
  {
   "cell_type": "markdown",
   "metadata": {},
   "source": [
    "# Python Project - Churn Emails - Dataset"
   ]
  },
  {
   "cell_type": "markdown",
   "metadata": {},
   "source": [
    "## We have a text file which records mail activity from various individuals in an open source project development team. Below is the file location"
   ]
  },
  {
   "cell_type": "code",
   "execution_count": null,
   "metadata": {},
   "outputs": [],
   "source": [
    "filehandle = open(\"/cxldata/datasets/project/mbox-short.txt\")\n",
    "filehandle.read()"
   ]
  },
  {
   "cell_type": "markdown",
   "metadata": {},
   "source": [
    "# Python Project - Churn Emails - Count the Number of Lines"
   ]
  },
  {
   "cell_type": "code",
   "execution_count": 16,
   "metadata": {},
   "outputs": [],
   "source": [
    "def number_of_lines():\n",
    "    path = \"/cxldata/datasets/project/mbox-short.txt\"\n",
    "    f = open(path)\n",
    "    cnt = 0\n",
    "    for x in f:\n",
    "        cnt = cnt +1\n",
    "    return(cnt)"
   ]
  },
  {
   "cell_type": "code",
   "execution_count": 17,
   "metadata": {},
   "outputs": [
    {
     "data": {
      "text/plain": [
       "1910"
      ]
     },
     "execution_count": 17,
     "metadata": {},
     "output_type": "execute_result"
    }
   ],
   "source": [
    "number_of_lines()"
   ]
  },
  {
   "cell_type": "markdown",
   "metadata": {},
   "source": [
    "# Python Project - Churn Emails - Count the Number of Lines"
   ]
  },
  {
   "cell_type": "code",
   "execution_count": 26,
   "metadata": {},
   "outputs": [],
   "source": [
    "def count_number_of_lines():\n",
    "    path = \"/cxldata/datasets/project/mbox-short.txt\"\n",
    "    f = open(path)\n",
    "    cnt = 0\n",
    "    for x in f:\n",
    "        x = x.rstrip()\n",
    "        if x.startswith(\"Subject:\"):\n",
    "            cnt  = cnt +1\n",
    "    return (cnt)\n"
   ]
  },
  {
   "cell_type": "code",
   "execution_count": 27,
   "metadata": {},
   "outputs": [
    {
     "data": {
      "text/plain": [
       "27"
      ]
     },
     "execution_count": 27,
     "metadata": {},
     "output_type": "execute_result"
    }
   ],
   "source": [
    "count_number_of_lines()"
   ]
  },
  {
   "cell_type": "markdown",
   "metadata": {},
   "source": [
    "# Python Project - Churn Emails - Find Average Spam Confidence"
   ]
  },
  {
   "cell_type": "code",
   "execution_count": 10,
   "metadata": {
    "scrolled": true
   },
   "outputs": [],
   "source": [
    "def average_spam_confidence():\n",
    "    import re\n",
    "    path = \"/cxldata/datasets/project/mbox-short.txt\"\n",
    "    f = open(path)\n",
    "    cnt = 0\n",
    "    sm = 0\n",
    "    for line in f:\n",
    "        line = line.rstrip()\n",
    "        if line.startswith(\"X-DSPAM-Confidence:\"):\n",
    "            value = float((re.findall(\"[0-9]+\\\\.[0-9]+\",line))[0])\n",
    "            sm =sm + value\n",
    "            cnt = cnt+1\n",
    "    return(sm/cnt)\n",
    "    "
   ]
  },
  {
   "cell_type": "code",
   "execution_count": 11,
   "metadata": {
    "scrolled": true
   },
   "outputs": [
    {
     "data": {
      "text/plain": [
       "0.7507185185185187"
      ]
     },
     "execution_count": 11,
     "metadata": {},
     "output_type": "execute_result"
    }
   ],
   "source": [
    "average_spam_confidence()"
   ]
  },
  {
   "cell_type": "markdown",
   "metadata": {},
   "source": [
    "# Python Project - Churn Emails - Find Average Spam Confidence"
   ]
  },
  {
   "cell_type": "code",
   "execution_count": 24,
   "metadata": {},
   "outputs": [],
   "source": [
    "def find_email_sent_days():\n",
    "    f = open(\"/cxldata/datasets/project/mbox-short.txt\")\n",
    "    lst =[]\n",
    "    for line in f:\n",
    "        line =line.rstrip()\n",
    "        if line.startswith(\"From \"):\n",
    "            day  = (line.split())[2]\n",
    "            lst.append(day)\n",
    "    dct =dict()\n",
    "    for day in lst:\n",
    "        dct[day] = dct.get(day,0)+1\n",
    "    return(dct)"
   ]
  },
  {
   "cell_type": "code",
   "execution_count": 25,
   "metadata": {},
   "outputs": [
    {
     "data": {
      "text/plain": [
       "{'Sat': 1, 'Fri': 20, 'Thu': 6}"
      ]
     },
     "execution_count": 25,
     "metadata": {},
     "output_type": "execute_result"
    }
   ],
   "source": [
    "find_email_sent_days()\n"
   ]
  },
  {
   "cell_type": "markdown",
   "metadata": {},
   "source": [
    "# Python Project - Churn Emails - Count Number of Messages From Each Email Address"
   ]
  },
  {
   "cell_type": "code",
   "execution_count": 81,
   "metadata": {},
   "outputs": [],
   "source": [
    "def count_message_from_email():\n",
    "    import re\n",
    "    f = open(\"/cxldata/datasets/project/mbox-short.txt\")\n",
    "    lst =[]\n",
    "    for line in f:\n",
    "        if line.startswith(\"From \"):\n",
    "            email = re.findall(\"\\S+@\\S+\",line)\n",
    "            lst.append((email[0]))\n",
    "    dct = dict()\n",
    "    for keys in lst:\n",
    "        dct[keys]  =dct.get(keys,0)+1\n",
    "    return(dct)"
   ]
  },
  {
   "cell_type": "markdown",
   "metadata": {},
   "source": [
    "# Python Project - Churn Emails - Count Number of Messages From Each Domain"
   ]
  },
  {
   "cell_type": "code",
   "execution_count": 47,
   "metadata": {
    "scrolled": false
   },
   "outputs": [],
   "source": [
    "def count_message_from_domain():\n",
    "    f = open(\"/cxldata/datasets/project/mbox-short.txt\")\n",
    "    import re\n",
    "    lst = []\n",
    "    for line in f:\n",
    "        if line.startswith(\"From:\"):\n",
    "            domain =  re.findall(\"@(\\S+)\",line)\n",
    "            lst.append(domain[0])\n",
    "    dct = dict()\n",
    "    for keys in lst:\n",
    "        dct[keys]  =dct.get(keys,0)+1\n",
    "    return(dct)      "
   ]
  },
  {
   "cell_type": "code",
   "execution_count": 48,
   "metadata": {},
   "outputs": [
    {
     "data": {
      "text/plain": [
       "{'uct.ac.za': 6,\n",
       " 'media.berkeley.edu': 4,\n",
       " 'umich.edu': 7,\n",
       " 'iupui.edu': 8,\n",
       " 'caret.cam.ac.uk': 1,\n",
       " 'gmail.com': 1}"
      ]
     },
     "execution_count": 48,
     "metadata": {},
     "output_type": "execute_result"
    }
   ],
   "source": [
    "count_message_from_domain()"
   ]
  }
 ],
 "metadata": {
  "kernelspec": {
   "display_name": "Python 3",
   "language": "python",
   "name": "python3"
  },
  "language_info": {
   "codemirror_mode": {
    "name": "ipython",
    "version": 3
   },
   "file_extension": ".py",
   "mimetype": "text/x-python",
   "name": "python",
   "nbconvert_exporter": "python",
   "pygments_lexer": "ipython3",
   "version": "3.6.8"
  },
  "toc": {
   "base_numbering": 1,
   "nav_menu": {},
   "number_sections": true,
   "sideBar": true,
   "skip_h1_title": false,
   "title_cell": "Table of Contents",
   "title_sidebar": "Contents",
   "toc_cell": false,
   "toc_position": {},
   "toc_section_display": true,
   "toc_window_display": false
  }
 },
 "nbformat": 4,
 "nbformat_minor": 2
}
